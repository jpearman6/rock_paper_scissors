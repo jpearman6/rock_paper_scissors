{
 "cells": [
  {
   "cell_type": "code",
   "execution_count": 1,
   "id": "9e1299f6",
   "metadata": {},
   "outputs": [
    {
     "name": "stdout",
     "output_type": "stream",
     "text": [
      " * Serving Flask app '__main__'\n",
      " * Debug mode: off\n"
     ]
    },
    {
     "name": "stderr",
     "output_type": "stream",
     "text": [
      "WARNING: This is a development server. Do not use it in a production deployment. Use a production WSGI server instead.\n",
      " * Running on http://127.0.0.1:5000\n",
      "Press CTRL+C to quit\n"
     ]
    }
   ],
   "source": [
    "from flask import Flask, request, jsonify\n",
    "import random\n",
    "\n",
    "app = Flask(__name__)\n",
    "\n",
    "# **Initialization**\n",
    "# Initialize the game score\n",
    "score = {\n",
    "    \"user\": 0,\n",
    "    \"api\": 0,\n",
    "    \"draws\": 0\n",
    "}\n",
    "\n",
    "# **Helper Functions**\n",
    "\n",
    "# Determine the winner based on user and API choices\n",
    "def determine_winner(user_choice, api_choice):\n",
    "    global score\n",
    "    if user_choice == api_choice:\n",
    "        score[\"draws\"] += 1\n",
    "        return \"Draw!\"\n",
    "    if user_choice == \"rock\":\n",
    "        if api_choice == \"scissors\":\n",
    "            score[\"user\"] += 1\n",
    "            return \"You win!\"\n",
    "        else:\n",
    "            score[\"api\"] += 1\n",
    "            return \"You lose!\"\n",
    "    if user_choice == \"paper\":\n",
    "        if api_choice == \"rock\":\n",
    "            score[\"user\"] += 1\n",
    "            return \"You win!\"\n",
    "        else:\n",
    "            score[\"api\"] += 1\n",
    "            return \"You lose!\"\n",
    "    if user_choice == \"scissors\":\n",
    "        if api_choice == \"paper\":\n",
    "            score[\"user\"] += 1\n",
    "            return \"You win!\"\n",
    "        else:\n",
    "            score[\"api\"] += 1\n",
    "            return \"You lose!\"\n",
    "\n",
    "# **API Endpoints**\n",
    "\n",
    "# Play the game\n",
    "@app.route('/play', methods=['POST'])\n",
    "def play():\n",
    "    data = request.get_json()\n",
    "    user_choice = data.get('choice')\n",
    "    if user_choice not in ['rock', 'paper', 'scissors']:\n",
    "        return jsonify(error=\"Invalid choice\"), 400\n",
    "\n",
    "    choices = ['rock', 'paper', 'scissors']\n",
    "    api_choice = random.choice(choices)\n",
    "\n",
    "    result = determine_winner(user_choice, api_choice)\n",
    "\n",
    "    return jsonify(user_choice=user_choice, api_choice=api_choice, result=result)\n",
    "\n",
    "# Get the current score\n",
    "@app.route('/score', methods=['GET'])\n",
    "def get_score():\n",
    "    return jsonify(score)\n",
    "\n",
    "# Restart the game by resetting the score\n",
    "@app.route('/restart', methods=['PUT'])\n",
    "def restart_game():\n",
    "    global score\n",
    "    score = {\n",
    "        \"user\": 0,\n",
    "        \"api\": 0,\n",
    "        \"draws\": 0\n",
    "    }\n",
    "    return jsonify(message=\"Game score has been reset.\", score=score)\n",
    "\n",
    "# **Main Execution**\n",
    "if __name__ == '__main__':\n",
    "    app.run(debug=False)\n"
   ]
  }
 ],
 "metadata": {
  "kernelspec": {
   "display_name": "Python 3 (ipykernel)",
   "language": "python",
   "name": "python3"
  },
  "language_info": {
   "codemirror_mode": {
    "name": "ipython",
    "version": 3
   },
   "file_extension": ".py",
   "mimetype": "text/x-python",
   "name": "python",
   "nbconvert_exporter": "python",
   "pygments_lexer": "ipython3",
   "version": "3.9.12"
  }
 },
 "nbformat": 4,
 "nbformat_minor": 5
}
